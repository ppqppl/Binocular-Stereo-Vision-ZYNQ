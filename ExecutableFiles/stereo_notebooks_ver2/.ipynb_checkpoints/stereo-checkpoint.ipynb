{
 "cells": [
  {
   "cell_type": "markdown",
   "metadata": {},
   "source": [
    "# Canny Edge in Programmable Logic (PL) - Application Notebook\n",
    "\n",
    "##### This reference design illustrates how to run a Canny Edge IP on the **Programmable Logic (PL)** using Jupyter Notebooks and Python\n",
    "\n",
    "## Image Canny detection in Programmable Logic\n",
    "\n",
    "\n",
    "<img src=\"./images/resize_bd.png\" width=\"800\" height=\"650\"/>\n",
    "\n",
    "## Import libraries"
   ]
  },
  {
   "cell_type": "code",
   "execution_count": null,
   "metadata": {},
   "outputs": [],
   "source": [
    "from PIL import Image\n",
    "import numpy as np\n",
    "from IPython.display import display\n",
    "import matplotlib.pyplot as plt\n",
    "from mpl_toolkits.mplot3d import Axes3D\n",
    "from pynq import Xlnk\n",
    "from pynq import Overlay\n",
    "import cv2"
   ]
  },
  {
   "cell_type": "code",
   "execution_count": null,
   "metadata": {},
   "outputs": [],
   "source": [
    "def depth2xyz(depth_map,depth_cam_matrix,flatten=False,depth_scale=1000):\n",
    "\n",
    "    fx,fy = depth_cam_matrix[0,0],depth_cam_matrix[1,1]\n",
    "\n",
    "    cx,cy = depth_cam_matrix[0,2],depth_cam_matrix[1,2]\n",
    "\n",
    "    h,w=np.mgrid[0:depth_map.shape[0],0:depth_map.shape[1]]\n",
    "\n",
    "    z=depth_map/depth_scale\n",
    "\n",
    "    x=(w-cx)*z/fx\n",
    "\n",
    "    y=(h-cy)*z/fy\n",
    "\n",
    "    xyz=np.dstack((x,y,z)) if flatten==False else np.dstack((x,y,z)).reshape(-1,3)\n",
    "\n",
    "    #xyz=cv2.rgbd.depthTo3d(depth_map,depth_cam_matrix)\n",
    "\n",
    "    return xyz"
   ]
  },
  {
   "cell_type": "markdown",
   "metadata": {},
   "source": [
    "## Download the Image Processing IP bitstream"
   ]
  },
  {
   "cell_type": "code",
   "execution_count": null,
   "metadata": {},
   "outputs": [],
   "source": [
    "stereo_design = Overlay(\"./bitstream/stereo.bit\")"
   ]
  },
  {
   "cell_type": "markdown",
   "metadata": {},
   "source": [
    "Then create DMA and Canny Edge IP objects."
   ]
  },
  {
   "cell_type": "code",
   "execution_count": null,
   "metadata": {},
   "outputs": [],
   "source": [
    "dma = stereo_design.axi_dma_0"
   ]
  },
  {
   "cell_type": "code",
   "execution_count": null,
   "metadata": {},
   "outputs": [],
   "source": [
    "stereo = stereo_design.disparityMap_0"
   ]
  },
  {
   "cell_type": "markdown",
   "metadata": {},
   "source": [
    "\n",
    "<img src=\"./images/resize_bit.png\" width=\"600\" height=\"450\"/>\n"
   ]
  },
  {
   "cell_type": "markdown",
   "metadata": {},
   "source": [
    "## Create an Image object using PIL in SW\n",
    "We will load image from the SD card and create a PIL Image object."
   ]
  },
  {
   "cell_type": "code",
   "execution_count": null,
   "metadata": {},
   "outputs": [],
   "source": [
    "image_path_left = \"image/left.jpg\"\n",
    "image_path_right = \"image/right.jpg\"\n",
    "original_image_left = Image.open(image_path_left)\n",
    "original_image_right = Image.open(image_path_right)"
   ]
  },
  {
   "cell_type": "code",
   "execution_count": null,
   "metadata": {},
   "outputs": [],
   "source": [
    "pic_width, pic_height = original_image_left.size\n",
    "print(\"Image size: {}x{} pixels.\".format(pic_width, pic_height))"
   ]
  },
  {
   "cell_type": "code",
   "execution_count": null,
   "metadata": {},
   "outputs": [],
   "source": [
    "original_image_left = original_image_left.convert('L') #gray scale the loaded image\n",
    "original_image_right = original_image_right.convert('L') #gray scale the loaded image\n",
    "display(original_image_left)\n",
    "display(original_image_right)"
   ]
  },
  {
   "cell_type": "markdown",
   "metadata": {},
   "source": [
    "We now create a numpy array of the pixels."
   ]
  },
  {
   "cell_type": "code",
   "execution_count": 9,
   "metadata": {},
   "outputs": [
    {
     "name": "stdout",
     "output_type": "stream",
     "text": [
      "(270, 360)\n"
     ]
    }
   ],
   "source": [
    "input_array_left = np.array(original_image_left)\n",
    "print(input_array_left.shape)\n",
    "input_array_right = np.array(original_image_right)\n",
    "input_array = np.zeros((pic_height,2*pic_width))\n",
    "input_array = np.uint8(input_array)\n",
    "for i in range(pic_height):\n",
    "    for j in range(pic_width//2):\n",
    "        input_array[i][4*j]=input_array_left[i][2*j]\n",
    "        input_array[i][4*j+1]=input_array_left[i][2*j+1]\n",
    "        input_array[i][4*j+2]=input_array_right[i][2*j]\n",
    "        input_array[i][4*j+3]=input_array_right[i][2*j+1]"
   ]
  },
  {
   "cell_type": "markdown",
   "metadata": {},
   "source": [
    "<img src=\"images/sd2dram.png\" width=\"650\" height=\"550\"/>"
   ]
  },
  {
   "cell_type": "markdown",
   "metadata": {},
   "source": [
    "We now allocate memory to process data on PL.\n",
    "Data is provided as contiguous memory blocks.\n",
    "The size of the buffer depends on the size of the input or output data.\n",
    "The image dimensions extracted from the read image are used to allocate contiguous memory blocks.   \n",
    "We will call `cma_array()` to perform the allocation."
   ]
  },
  {
   "cell_type": "code",
   "execution_count": 10,
   "metadata": {},
   "outputs": [],
   "source": [
    "xlnk = Xlnk()\n",
    "in_buffer = xlnk.cma_array(shape=(pic_height, 2*pic_width), \n",
    "                           dtype=np.uint8)\n",
    "out_buffer = xlnk.cma_array(shape=(pic_height, pic_width), \n",
    "                            dtype=np.uint8)"
   ]
  },
  {
   "cell_type": "markdown",
   "metadata": {},
   "source": [
    "Documentation snippet for `xlnk.cma_array`:\n",
    "\n",
    "```python\n",
    "\"\"\"\n",
    "Get a contiguously allocated numpy array\n",
    "\n",
    "Parameters\n",
    "----------\n",
    "shape : int or tuple of int\n",
    "    The dimensions of the array to construct - We use (height, width, depth)\n",
    "dtype : numpy.dtype or str\n",
    "    The data type to construct - We use 8-bit unsigned int\n",
    "\n",
    "\"\"\"\n",
    "```"
   ]
  },
  {
   "cell_type": "markdown",
   "metadata": {},
   "source": [
    "\n",
    "<img src=\"./images/local2shared.png\" width=\"650\" height=\"550\"/>\n"
   ]
  },
  {
   "cell_type": "markdown",
   "metadata": {},
   "source": [
    "We now display the image in buffer.\n",
    "\n",
    "__Note : The `input_array` has to be copied into the contiguous memory array (deep copy).__\n",
    "\n",
    "The input buffer size should be 640 x 360 x 3 (height x width x depth)."
   ]
  },
  {
   "cell_type": "code",
   "execution_count": 11,
   "metadata": {},
   "outputs": [],
   "source": [
    "np.copyto(in_buffer,input_array)\n",
    "#in_buffer.nbytes = input_array.nbytes\n",
    "buf_image = Image.fromarray(in_buffer)\n",
    "#display(buf_image)\n",
    "#print(\"Image size: {}x{} pixels.\".format(pic_width, pic_height))"
   ]
  },
  {
   "cell_type": "markdown",
   "metadata": {},
   "source": [
    "We can now run the canny edge IP.\n",
    "We will push the data from input buffer through the pipeline to the output buffer."
   ]
  },
  {
   "cell_type": "markdown",
   "metadata": {},
   "source": [
    "\n",
    "<img src=\"./images/resize_accel.png\" width=\"650\" height=\"550\"/>\n"
   ]
  },
  {
   "cell_type": "markdown",
   "metadata": {},
   "source": [
    "We will first need to setup resizer and DMA IPs using MMIO interface \n",
    "before we stream image data to them.\n",
    "For example, we need to write dimensions data to MMIO registers of resizer.\n",
    "\n",
    "| register offset | configuration                          |\n",
    "|-----------------|----------------------------------------|\n",
    "| 0x14            | number of rows for original picture    |\n",
    "| 0x1C            | number of columns for original picture |\n",
    "| 0x24            | Data signal of threshold1     |\n",
    "| 0x2C            | Data signal of threshold2  |"
   ]
  },
  {
   "cell_type": "code",
   "execution_count": 12,
   "metadata": {},
   "outputs": [],
   "source": [
    "stereo.write(0x14, pic_height) #rows\n",
    "stereo.write(0x1c, pic_width) #cols"
   ]
  },
  {
   "cell_type": "code",
   "execution_count": 13,
   "metadata": {},
   "outputs": [],
   "source": [
    "dma.sendchannel.transfer(in_buffer)\n",
    "dma.recvchannel.transfer(out_buffer)    \n",
    "stereo.write(0x00,0x81) # start"
   ]
  },
  {
   "cell_type": "code",
   "execution_count": 14,
   "metadata": {},
   "outputs": [
    {
     "ename": "RuntimeError",
     "evalue": "DMA channel not started",
     "output_type": "error",
     "traceback": [
      "\u001b[0;31m---------------------------------------------------------------------------\u001b[0m",
      "\u001b[0;31mRuntimeError\u001b[0m                              Traceback (most recent call last)",
      "\u001b[0;32m<ipython-input-14-08462482f34a>\u001b[0m in \u001b[0;36m<module>\u001b[0;34m()\u001b[0m\n\u001b[0;32m----> 1\u001b[0;31m \u001b[0mdma\u001b[0m\u001b[0;34m.\u001b[0m\u001b[0msendchannel\u001b[0m\u001b[0;34m.\u001b[0m\u001b[0mwait\u001b[0m\u001b[0;34m(\u001b[0m\u001b[0;34m)\u001b[0m\u001b[0;34m\u001b[0m\u001b[0m\n\u001b[0m",
      "\u001b[0;32m/opt/python3.6/lib/python3.6/site-packages/pynq/lib/dma.py\u001b[0m in \u001b[0;36mwait\u001b[0;34m(self)\u001b[0m\n\u001b[1;32m    633\u001b[0m         \"\"\"\n\u001b[1;32m    634\u001b[0m         \u001b[0;32mif\u001b[0m \u001b[0;32mnot\u001b[0m \u001b[0mself\u001b[0m\u001b[0;34m.\u001b[0m\u001b[0mrunning\u001b[0m\u001b[0;34m:\u001b[0m\u001b[0;34m\u001b[0m\u001b[0m\n\u001b[0;32m--> 635\u001b[0;31m             \u001b[0;32mraise\u001b[0m \u001b[0mRuntimeError\u001b[0m\u001b[0;34m(\u001b[0m\u001b[0;34m'DMA channel not started'\u001b[0m\u001b[0;34m)\u001b[0m\u001b[0;34m\u001b[0m\u001b[0m\n\u001b[0m\u001b[1;32m    636\u001b[0m         \u001b[0;32mwhile\u001b[0m \u001b[0;32mnot\u001b[0m \u001b[0mself\u001b[0m\u001b[0;34m.\u001b[0m\u001b[0midle\u001b[0m\u001b[0;34m:\u001b[0m\u001b[0;34m\u001b[0m\u001b[0m\n\u001b[1;32m    637\u001b[0m             \u001b[0;32mpass\u001b[0m\u001b[0;34m\u001b[0m\u001b[0m\n",
      "\u001b[0;31mRuntimeError\u001b[0m: DMA channel not started"
     ]
    }
   ],
   "source": [
    "dma.sendchannel.wait()"
   ]
  },
  {
   "cell_type": "code",
   "execution_count": null,
   "metadata": {},
   "outputs": [],
   "source": [
    "dma.recvchannel.wait()"
   ]
  },
  {
   "cell_type": "code",
   "execution_count": null,
   "metadata": {},
   "outputs": [],
   "source": [
    "img_Guassian = cv2.GaussianBlur(out_buffer,(5,5),0)\n",
    "filter_gray = Image.fromarray(img_Guassian)\n",
    "display(filter_gray)\n",
    "result_color = cv2.applyColorMap(out_buffer, cv2.COLORMAP_JET)\n",
    "result_color = Image.fromarray(cv2.cvtColor(result_color,cv2.COLOR_BGR2RGB))\n",
    "display(result_color)"
   ]
  },
  {
   "cell_type": "code",
   "execution_count": null,
   "metadata": {},
   "outputs": [],
   "source": [
    "depth_cam_matrix = np.array([[1.2204142746109235e+03, 0., 6.3720223428257623e+02],[0.,1.2217495441875433e+03, 3.3931154544290928e+02], [0., 0., 1.]])\n",
    "# 获取点云\n",
    "xyz = depth2xyz(out_buffer,depth_cam_matrix,flatten=False,depth_scale=1000)\n"
   ]
  },
  {
   "cell_type": "markdown",
   "metadata": {},
   "source": [
    "Finally we need to reset all the contiguous memory buffers."
   ]
  },
  {
   "cell_type": "code",
   "execution_count": null,
   "metadata": {},
   "outputs": [],
   "source": [
    "in_buffer.close()\n",
    "out_buffer.close()"
   ]
  },
  {
   "cell_type": "code",
   "execution_count": null,
   "metadata": {},
   "outputs": [],
   "source": [
    "xlnk.xlnk_reset()"
   ]
  },
  {
   "cell_type": "markdown",
   "metadata": {},
   "source": [
    "[Contents](#Contents)\n",
    "\n",
    "# References\n",
    "\n",
    "https://pillow.readthedocs.io/en/3.1.x/index.html   \n",
    "https://github.com/Xilinx/PYNQ/blob/master/docs/source/python_environment.ipynb   \n",
    "https://github.com/Xilinx/PYNQ/blob/master/docs/source/jupyter_notebooks.ipynb   \n",
    "https://github.com/Xilinx/PYNQ/blob/master/docs/source/jupyter_notebooks_advanced_features.ipynb   "
   ]
  },
  {
   "cell_type": "code",
   "execution_count": null,
   "metadata": {},
   "outputs": [],
   "source": []
  },
  {
   "cell_type": "code",
   "execution_count": null,
   "metadata": {},
   "outputs": [],
   "source": []
  },
  {
   "cell_type": "code",
   "execution_count": null,
   "metadata": {},
   "outputs": [],
   "source": []
  }
 ],
 "metadata": {
  "kernelspec": {
   "display_name": "Python 3",
   "language": "python",
   "name": "python3"
  },
  "language_info": {
   "codemirror_mode": {
    "name": "ipython",
    "version": 3
   },
   "file_extension": ".py",
   "mimetype": "text/x-python",
   "name": "python",
   "nbconvert_exporter": "python",
   "pygments_lexer": "ipython3",
   "version": "3.6.0"
  }
 },
 "nbformat": 4,
 "nbformat_minor": 2
}
